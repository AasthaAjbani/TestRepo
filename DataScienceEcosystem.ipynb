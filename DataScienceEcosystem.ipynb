{
  "metadata": {
    "kernelspec": {
      "name": "python",
      "display_name": "Python (Pyodide)",
      "language": "python"
    },
    "language_info": {
      "codemirror_mode": {
        "name": "python",
        "version": 3
      },
      "file_extension": ".py",
      "mimetype": "text/x-python",
      "name": "python",
      "nbconvert_exporter": "python",
      "pygments_lexer": "ipython3",
      "version": "3.8"
    }
  },
  "nbformat_minor": 5,
  "nbformat": 4,
  "cells": [
    {
      "id": "d608f7e7-adcc-43ba-98ea-480f57071a00",
      "cell_type": "markdown",
      "source": "# Data Science Tools and Ecosystem",
      "metadata": {}
    },
    {
      "id": "57317567-8a45-4241-9b13-e72cfdd78a05",
      "cell_type": "markdown",
      "source": "## In this notebook, **Data Science Tools and Ecosystem** are summarized.",
      "metadata": {
        "jp-MarkdownHeadingCollapsed": true
      }
    },
    {
      "id": "774e59ce-a930-4a76-8604-1741c959b518",
      "cell_type": "markdown",
      "source": "## Data Science Languages\n\nSome of the popular languages that Data Scientists use are:\n\n1. Python  \n2. R  \n3. SQL  \n4. Julia  \n5. Scala",
      "metadata": {}
    },
    {
      "id": "275cfe70-56c5-4dda-86f7-1718d663ca9f",
      "cell_type": "markdown",
      "source": "## Data Science Libraries\n\nSome of the commonly used libraries used by Data Scientists include:\n\n1. Pandas  \n2. NumPy  \n3. Matplotlib  \n4. Scikit-learn  \n5. TensorFlow  \n6. Seaborn",
      "metadata": {
        "jp-MarkdownHeadingCollapsed": true
      }
    },
    {
      "id": "c0256c9a-e19e-4122-9707-91da8a075068",
      "cell_type": "markdown",
      "source": "## Data Science Tools\n\n| Data Science Tools         |\n|----------------------------|\n| Jupyter Notebook           |\n| RStudio                    |\n| Apache Zeppelin            |\n",
      "metadata": {}
    },
    {
      "id": "07c5a293-5476-48ff-bb41-61244c349b0e",
      "cell_type": "markdown",
      "source": "### Below are a few examples of evaluating arithmetic expressions in Python.\n",
      "metadata": {}
    },
    {
      "id": "00f03b61-a770-4855-8c56-322cc81063d4",
      "cell_type": "code",
      "source": "# This is a simple arithmetic expression to multiply then add integers\n(3 * 4) + 5",
      "metadata": {
        "trusted": true
      },
      "outputs": [
        {
          "execution_count": 3,
          "output_type": "execute_result",
          "data": {
            "text/plain": "17"
          },
          "metadata": {}
        }
      ],
      "execution_count": 3
    },
    {
      "id": "6e85fc8f-6ba9-476a-90ab-4f127e0b1fef",
      "cell_type": "code",
      "source": "# This will convert 200 minutes to hours by dividing by 60\n200 / 60",
      "metadata": {
        "trusted": true
      },
      "outputs": [
        {
          "execution_count": 4,
          "output_type": "execute_result",
          "data": {
            "text/plain": "3.3333333333333335"
          },
          "metadata": {}
        }
      ],
      "execution_count": 4
    },
    {
      "id": "e152637e-77fd-42c2-9928-eb4e0cb70456",
      "cell_type": "markdown",
      "source": "**Objectives:**\n\n- List popular languages for Data Science\n- Identify commonly used Data Science libraries\n- Create tables using Markdown\n- Perform basic arithmetic operations using Python\n- Convert units (e.g., minutes to hours) using Python expressions",
      "metadata": {}
    },
    {
      "id": "1f166307-aa3b-460b-bbf8-41ee3a7c9a11",
      "cell_type": "markdown",
      "source": "## Author\n\nAastha Ajbani",
      "metadata": {}
    }
  ]
}